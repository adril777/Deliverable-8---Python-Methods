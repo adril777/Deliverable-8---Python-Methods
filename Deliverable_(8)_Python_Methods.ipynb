{
  "nbformat": 4,
  "nbformat_minor": 0,
  "metadata": {
    "colab": {
      "provenance": [],
      "authorship_tag": "ABX9TyM4uCK679K+LgyactcKkiNm",
      "include_colab_link": true
    },
    "kernelspec": {
      "name": "python3",
      "display_name": "Python 3"
    },
    "language_info": {
      "name": "python"
    }
  },
  "cells": [
    {
      "cell_type": "markdown",
      "metadata": {
        "id": "view-in-github",
        "colab_type": "text"
      },
      "source": [
        "<a href=\"https://colab.research.google.com/github/adril777/Deliverable-8---Python-Methods/blob/main/Deliverable_(8)_Python_Methods.ipynb\" target=\"_parent\"><img src=\"https://colab.research.google.com/assets/colab-badge.svg\" alt=\"Open In Colab\"/></a>"
      ]
    },
    {
      "cell_type": "code",
      "execution_count": 1,
      "metadata": {
        "colab": {
          "base_uri": "https://localhost:8080/"
        },
        "id": "PZyzNDt3QzNl",
        "outputId": "63570f31-7e6e-4e66-85f2-4ac2188e4ad5"
      },
      "outputs": [
        {
          "output_type": "stream",
          "name": "stdout",
          "text": [
            "Enter an integer between 5 and 15: 6\n",
            "The elements of the array are: 31 33 16 50 17 18\n",
            "The sum is: 165\n"
          ]
        }
      ],
      "source": [
        "import random\n",
        "\n",
        "def populate_list(length):\n",
        "    return [random.randint(10, 50) for _ in range(length)]\n",
        "\n",
        "def sum_list(lst):\n",
        "    return sum(lst)\n",
        "\n",
        "while True:\n",
        "    user_entry = int(input(\"Enter an integer between 5 and 15: \"))\n",
        "    if user_entry >= 5 and user_entry <= 15:\n",
        "        break\n",
        "\n",
        "lst = populate_list(user_entry)\n",
        "print(\"The elements of the array are:\", \" \".join(str(x) for x in lst))\n",
        "\n",
        "total_sum = sum_list(lst)\n",
        "print(\"The sum is:\", total_sum)"
      ]
    }
  ]
}